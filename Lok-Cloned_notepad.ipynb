{
 "cells": [
  {
   "cell_type": "code",
   "execution_count": 0,
   "metadata": {
    "application/vnd.databricks.v1+cell": {
     "cellMetadata": {
      "byteLimit": 2048000,
      "rowLimit": 10000
     },
     "inputWidgets": {},
     "nuid": "34407d0e-f688-4c59-a36c-845d6fadd19e",
     "showTitle": true,
     "tableResultSettingsMap": {},
     "title": "python-sample"
    }
   },
   "outputs": [],
   "source": [
    "print(\"TEST PROGRAM\")"
   ]
  },
  {
   "cell_type": "code",
   "execution_count": 0,
   "metadata": {
    "application/vnd.databricks.v1+cell": {
     "cellMetadata": {
      "byteLimit": 2048000,
      "implicitDf": true,
      "rowLimit": 10000
     },
     "inputWidgets": {},
     "nuid": "5280c09c-0dad-4f28-a4a4-c74d3d44f718",
     "showTitle": true,
     "tableResultSettingsMap": {},
     "title": "create schema"
    }
   },
   "outputs": [],
   "source": [
    "%sql\n",
    "create schema if not exists dev.lok;"
   ]
  },
  {
   "cell_type": "code",
   "execution_count": 0,
   "metadata": {
    "application/vnd.databricks.v1+cell": {
     "cellMetadata": {
      "byteLimit": 2048000,
      "implicitDf": true,
      "rowLimit": 10000
     },
     "inputWidgets": {},
     "nuid": "9a15f60e-0ca7-4350-8903-1c07d970d040",
     "showTitle": true,
     "tableResultSettingsMap": {},
     "title": "alter table add columns"
    }
   },
   "outputs": [],
   "source": [
    "%sql\n",
    "alter table dev.lok.demo add columns(sid string,name string,rollno int);"
   ]
  },
  {
   "cell_type": "code",
   "execution_count": 0,
   "metadata": {
    "application/vnd.databricks.v1+cell": {
     "cellMetadata": {
      "byteLimit": 2048000,
      "implicitDf": true,
      "rowLimit": 10000
     },
     "inputWidgets": {},
     "nuid": "871c0f2c-4e1d-4562-b9de-69150f5ddd90",
     "showTitle": true,
     "tableResultSettingsMap": {},
     "title": "insert rows in table"
    }
   },
   "outputs": [],
   "source": [
    "%sql\n",
    "INSERT INTO dev.lok.demo VALUES (\"F123\",\"Test\",123)"
   ]
  },
  {
   "cell_type": "code",
   "execution_count": 0,
   "metadata": {
    "application/vnd.databricks.v1+cell": {
     "cellMetadata": {
      "byteLimit": 2048000,
      "implicitDf": true,
      "rowLimit": 10000
     },
     "inputWidgets": {},
     "nuid": "394647ef-7150-45ef-9b5c-a29e7a4d4fb1",
     "showTitle": true,
     "tableResultSettingsMap": {},
     "title": "default values to trigger commands"
    }
   },
   "outputs": [],
   "source": [
    "%sql\n",
    "use catalog dev;\n",
    "use schema lok;\n",
    "    \n",
    "select * from lok.demo"
   ]
  }
 ],
 "metadata": {
  "application/vnd.databricks.v1+notebook": {
   "computePreferences": null,
   "dashboards": [],
   "environmentMetadata": {
    "base_environment": "",
    "environment_version": "2"
   },
   "inputWidgetPreferences": null,
   "language": "python",
   "notebookMetadata": {
    "mostRecentlyExecutedCommandWithImplicitDF": {
     "commandId": 5459993401664434,
     "dataframes": [
      "_sqldf"
     ]
    },
    "pythonIndentUnit": 4
   },
   "notebookName": "Lok-Cloned_notepad",
   "widgets": {}
  },
  "language_info": {
   "name": "python"
  }
 },
 "nbformat": 4,
 "nbformat_minor": 0
}
